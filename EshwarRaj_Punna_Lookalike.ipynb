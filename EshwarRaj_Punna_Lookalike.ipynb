{
 "cells": [
  {
   "cell_type": "code",
   "execution_count": 11,
   "id": "6d6c6cc4",
   "metadata": {},
   "outputs": [
    {
     "name": "stdout",
     "output_type": "stream",
     "text": [
      "   CustomerID                                         Lookalikes\n",
      "0       C0001  [('C0164', 0.9684103747672834), ('C0137', 0.96...\n",
      "1       C0002  [('C0029', 0.9997616343498978), ('C0031', 0.99...\n",
      "2       C0003  [('C0176', 0.8906401232895584), ('C0027', 0.86...\n",
      "3       C0004  [('C0075', 0.9976740652389241), ('C0175', 0.99...\n",
      "4       C0005  [('C0058', 0.9997982043779898), ('C0123', 0.99...\n",
      "5       C0006  [('C0079', 0.9998795967431424), ('C0196', 0.99...\n",
      "6       C0007  [('C0140', 0.9985337287784547), ('C0085', 0.99...\n",
      "7       C0008  [('C0179', 0.9965086350321659), ('C0081', 0.99...\n",
      "8       C0009  [('C0192', 0.9983620640345526), ('C0177', 0.99...\n",
      "9       C0010  [('C0142', 0.964094866380962), ('C0027', 0.956...\n",
      "10      C0011  [('C0023', 0.9819122814188915), ('C0064', 0.97...\n",
      "11      C0012  [('C0041', 0.997318308138947), ('C0045', 0.995...\n",
      "12      C0013  [('C0059', 0.9992581092102039), ('C0141', 0.99...\n",
      "13      C0014  [('C0033', 0.9996378284444327), ('C0095', 0.99...\n",
      "14      C0015  [('C0131', 0.9999953416670492), ('C0058', 0.99...\n",
      "15      C0016  [('C0107', 0.9642876834861009), ('C0152', 0.84...\n",
      "16      C0017  [('C0162', 0.9977685065474171), ('C0124', 0.99...\n",
      "17      C0018  [('C0182', 0.9847257873183777), ('C0165', 0.98...\n",
      "18      C0019  [('C0172', 0.9869730973269422), ('C0116', 0.95...\n",
      "19      C0020  [('C0080', 0.9998945211239678), ('C0167', 0.99...\n"
     ]
    }
   ],
   "source": [
    "import pandas as pd\n",
    "import numpy as np\n",
    "from sklearn.metrics.pairwise import cosine_similarity\n",
    "from sklearn.preprocessing import StandardScaler\n",
    "\n",
    "# Load datasets\n",
    "customers_file = \"C:/Users/Eshwar/Downloads/Customers.csv\"\n",
    "products_file = \"C:/Users/Eshwar/Downloads/Products.csv\"\n",
    "transactions_file = \"C:/Users/Eshwar/Downloads/Transactions.csv\"\n",
    "\n",
    "# Merge datasets\n",
    "merged_df = transactions_df.merge(customers_df, on='CustomerID').merge(products_df, on='ProductID')\n",
    "\n",
    "# Feature Engineering: Aggregate transaction history for each customer\n",
    "customer_transactions = merged_df.groupby('CustomerID').agg({\n",
    "    'TotalValue': 'sum',\n",
    "    'Quantity': 'sum',\n",
    "    'ProductID': lambda x: x.nunique()  # Unique products bought\n",
    "}).reset_index()\n",
    "\n",
    "# Normalize features\n",
    "scaler = StandardScaler()\n",
    "customer_transactions[['TotalValue', 'Quantity', 'ProductID']] = scaler.fit_transform(\n",
    "    customer_transactions[['TotalValue', 'Quantity', 'ProductID']]\n",
    ")\n",
    "\n",
    "# Calculate similarity matrix using Cosine Similarity\n",
    "similarity_matrix = cosine_similarity(customer_transactions[['TotalValue', 'Quantity', 'ProductID']])\n",
    "\n",
    "# Create a DataFrame for easy lookup\n",
    "similarity_df = pd.DataFrame(similarity_matrix, index=customer_transactions['CustomerID'], columns=customer_transactions['CustomerID'])\n",
    "\n",
    "# Function to recommend top 3 similar customers for each of the first 20 customers\n",
    "lookalike_recommendations = {}\n",
    "\n",
    "for customer in customer_transactions['CustomerID'][:20]:\n",
    "    # Get the similarity scores and sort by descending order\n",
    "    similar_customers = similarity_df[customer].sort_values(ascending=False).iloc[1:4]  # Skip the customer itself (index 0)\n",
    "    lookalike_recommendations[customer] = list(zip(similar_customers.index, similar_customers.values))\n",
    "\n",
    "# Save the results to Lookalike.csv\n",
    "lookalike_df = pd.DataFrame([\n",
    "    {'CustomerID': cust_id, 'Lookalikes': str(lookalikes)} \n",
    "    for cust_id, lookalikes in lookalike_recommendations.items()\n",
    "])\n",
    "\n",
    "lookalike_df.to_csv('Lookalike.csv', index=False)\n",
    "\n",
    "# Print the top 3 recommendations for each customer\n",
    "print(lookalike_df)\n"
   ]
  },
  {
   "cell_type": "code",
   "execution_count": 5,
   "id": "7c4f14d6",
   "metadata": {},
   "outputs": [
    {
     "name": "stdout",
     "output_type": "stream",
     "text": [
      "Index(['TransactionID', 'CustomerID', 'ProductID', 'TransactionDate',\n",
      "       'Quantity', 'TotalValue', 'Price_x', 'CustomerName', 'Region',\n",
      "       'SignupDate', 'ProductName', 'Category', 'Price_y'],\n",
      "      dtype='object')\n"
     ]
    }
   ],
   "source": [
    "print(merged_df.columns)\n"
   ]
  },
  {
   "cell_type": "code",
   "execution_count": 13,
   "id": "f0575f20",
   "metadata": {},
   "outputs": [
    {
     "name": "stdout",
     "output_type": "stream",
     "text": [
      "Lookalike model created and saved to 'Lookalike.csv'.\n"
     ]
    }
   ],
   "source": [
    "import pandas as pd\n",
    "import numpy as np\n",
    "from sklearn.metrics.pairwise import cosine_similarity\n",
    "from sklearn.preprocessing import StandardScaler\n",
    "\n",
    "# Load the datasets (Customers and Transactions)\n",
    "customers_df = pd.read_csv('Customers.csv')\n",
    "transactions_df = pd.read_csv('Transactions.csv')\n",
    "\n",
    "# Preprocess and merge the data\n",
    "# Assuming 'CustomerID', 'ProductID', 'Quantity', 'TotalValue' columns in Transactions.csv\n",
    "# Assuming 'CustomerID', 'Name', 'Age', 'Gender' columns in Customers.csv\n",
    "\n",
    "# Merge customer and transaction data on 'CustomerID'\n",
    "merged_df = pd.merge(transactions_df, customers_df, on='CustomerID', how='left')\n",
    "\n",
    "# Aggregate data per customer\n",
    "customer_summary = merged_df.groupby('CustomerID').agg(\n",
    "    total_value=('TotalValue', 'sum'),\n",
    "    total_quantity=('Quantity', 'sum'),\n",
    "    unique_products=('ProductID', 'nunique')\n",
    ").reset_index()\n",
    "\n",
    "# Normalize the data\n",
    "scaler = StandardScaler()\n",
    "customer_summary_scaled = scaler.fit_transform(customer_summary[['total_value', 'total_quantity', 'unique_products']])\n",
    "\n",
    "# Calculate cosine similarity between customers\n",
    "cos_sim = cosine_similarity(customer_summary_scaled)\n",
    "\n",
    "# Create a DataFrame for easy mapping of customer similarities\n",
    "cos_sim_df = pd.DataFrame(cos_sim, columns=customer_summary['CustomerID'], index=customer_summary['CustomerID'])\n",
    "\n",
    "# Function to recommend top 3 lookalikes for a given customer\n",
    "def recommend_lookalikes(customer_id, top_n=3):\n",
    "    similar_customers = cos_sim_df[customer_id].sort_values(ascending=False)[1:top_n+1]\n",
    "    recommendations = [(customer, similarity_score) for customer, similarity_score in zip(similar_customers.index, similar_customers.values)]\n",
    "    return recommendations\n",
    "\n",
    "# Create the lookalike mapping for the first 20 customers (C0001 - C0020)\n",
    "lookalike_map = {}\n",
    "\n",
    "for i in range(1, 21):\n",
    "    customer_id = f'C{i:04d}'  # Format customer ID as 'C0001', 'C0002', ...\n",
    "    recommendations = recommend_lookalikes(customer_id)\n",
    "    lookalike_map[customer_id] = recommendations\n",
    "\n",
    "# Convert the lookalike map into a format suitable for CSV\n",
    "lookalike_list = []\n",
    "for customer_id, recommendations in lookalike_map.items():\n",
    "    for lookalike, score in recommendations:\n",
    "        lookalike_list.append([customer_id, lookalike, score])\n",
    "\n",
    "# Convert the list to a DataFrame\n",
    "lookalike_df = pd.DataFrame(lookalike_list, columns=['CustomerID', 'LookalikeID', 'SimilarityScore'])\n",
    "\n",
    "# Save the result as a CSV\n",
    "lookalike_df.to_csv('Lookalike.csv', index=False)\n",
    "\n",
    "# Save the lookalike map as a dictionary to check the structure\n",
    "print(\"Lookalike map:\")\n",
    "print(lookalike_map)\n",
    "\n",
    "print(\"\\nLookalike model created and saved to 'Lookalike.csv'.\")\n"
   ]
  },
  {
   "cell_type": "code",
   "execution_count": null,
   "id": "27523b17",
   "metadata": {},
   "outputs": [],
   "source": []
  }
 ],
 "metadata": {
  "kernelspec": {
   "display_name": "Python 3 (ipykernel)",
   "language": "python",
   "name": "python3"
  },
  "language_info": {
   "codemirror_mode": {
    "name": "ipython",
    "version": 3
   },
   "file_extension": ".py",
   "mimetype": "text/x-python",
   "name": "python",
   "nbconvert_exporter": "python",
   "pygments_lexer": "ipython3",
   "version": "3.10.9"
  }
 },
 "nbformat": 4,
 "nbformat_minor": 5
}
